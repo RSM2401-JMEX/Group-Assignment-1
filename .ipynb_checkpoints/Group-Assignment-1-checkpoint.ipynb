{
 "cells": [
  {
   "cell_type": "markdown",
   "metadata": {},
   "source": [
    "# RSM 2401 Group Assignment 1"
   ]
  },
  {
   "cell_type": "markdown",
   "metadata": {},
   "source": [
    "Deliverables (to be submitted on Quercus):\n",
    "All SQL source code / answers in a Jupyter Notebook (*.ipynb).\n",
    "Based on the Premier Products database that we created in class, answer the following questions using SQL commands. State these questions in markdown cells in your Jupyter notebook and fill in the answer in between."
   ]
  },
  {
   "cell_type": "code",
   "execution_count": 1,
   "metadata": {},
   "outputs": [],
   "source": [
    "# preparation\n",
    "\n",
    "# install SQL module\n",
    "#!pip install ipython-sql"
   ]
  },
  {
   "cell_type": "code",
   "execution_count": 2,
   "metadata": {},
   "outputs": [],
   "source": [
    "# Loading the SQL module\n",
    "%load_ext sql"
   ]
  },
  {
   "cell_type": "code",
   "execution_count": 3,
   "metadata": {},
   "outputs": [
    {
     "data": {
      "text/plain": [
       "'Connected: @None'"
      ]
     },
     "execution_count": 3,
     "metadata": {},
     "output_type": "execute_result"
    }
   ],
   "source": [
    "# Connect to a SQLite database\n",
    "%sql sqlite://"
   ]
  },
  {
   "cell_type": "code",
   "execution_count": 4,
   "metadata": {},
   "outputs": [],
   "source": [
    "# Create table REP"
   ]
  },
  {
   "cell_type": "code",
   "execution_count": 5,
   "metadata": {},
   "outputs": [
    {
     "name": "stdout",
     "output_type": "stream",
     "text": [
      " * sqlite://\n",
      "Done.\n"
     ]
    },
    {
     "data": {
      "text/plain": [
       "[]"
      ]
     },
     "execution_count": 5,
     "metadata": {},
     "output_type": "execute_result"
    }
   ],
   "source": [
    "%%sql \n",
    "CREATE TABLE REP \n",
    "(REP_NUM CHAR(2) PRIMARY KEY,\n",
    " LAST_NAME CHAR(15) NOT NULL,\n",
    " FIRST_NAME CHAR(15) NOT NULL,\n",
    " STREET CHAR(15),\n",
    " CITY CHAR(15),\n",
    " STATE CHAR(2),\n",
    " ZIP CHAR(5),\n",
    " COMMISSION DECIMAL(7,2),\n",
    " RATE DECIMAL(3,2) );"
   ]
  },
  {
   "cell_type": "code",
   "execution_count": 6,
   "metadata": {},
   "outputs": [
    {
     "name": "stdout",
     "output_type": "stream",
     "text": [
      " * sqlite://\n",
      "1 rows affected.\n",
      "1 rows affected.\n",
      "1 rows affected.\n"
     ]
    },
    {
     "data": {
      "text/plain": [
       "[]"
      ]
     },
     "execution_count": 6,
     "metadata": {},
     "output_type": "execute_result"
    }
   ],
   "source": [
    "%%sql \n",
    "insert into REP VALUES\n",
    "('20','Kaiser','Valerie', '624 Randall','Grove','FL','33321',20542.50,0.05);\n",
    "insert into REP VALUES\n",
    "('35','Hull','Richard','532 Jackson','Sheldon','FL',33553,39216,.07);\n",
    "insert into REP VALUES\n",
    "('65','Perez','Juan','1626 Taylor','Fillmore','FL',33553,23487,.05);"
   ]
  },
  {
   "cell_type": "code",
   "execution_count": 7,
   "metadata": {},
   "outputs": [
    {
     "name": "stdout",
     "output_type": "stream",
     "text": [
      " * sqlite://\n",
      "Done.\n"
     ]
    },
    {
     "data": {
      "text/html": [
       "<table>\n",
       "    <tr>\n",
       "        <th>REP_NUM</th>\n",
       "        <th>LAST_NAME</th>\n",
       "        <th>FIRST_NAME</th>\n",
       "        <th>STREET</th>\n",
       "        <th>CITY</th>\n",
       "        <th>STATE</th>\n",
       "        <th>ZIP</th>\n",
       "        <th>COMMISSION</th>\n",
       "        <th>RATE</th>\n",
       "    </tr>\n",
       "    <tr>\n",
       "        <td>20</td>\n",
       "        <td>Kaiser</td>\n",
       "        <td>Valerie</td>\n",
       "        <td>624 Randall</td>\n",
       "        <td>Grove</td>\n",
       "        <td>FL</td>\n",
       "        <td>33321</td>\n",
       "        <td>20542.5</td>\n",
       "        <td>0.05</td>\n",
       "    </tr>\n",
       "    <tr>\n",
       "        <td>35</td>\n",
       "        <td>Hull</td>\n",
       "        <td>Richard</td>\n",
       "        <td>532 Jackson</td>\n",
       "        <td>Sheldon</td>\n",
       "        <td>FL</td>\n",
       "        <td>33553</td>\n",
       "        <td>39216</td>\n",
       "        <td>0.07</td>\n",
       "    </tr>\n",
       "    <tr>\n",
       "        <td>65</td>\n",
       "        <td>Perez</td>\n",
       "        <td>Juan</td>\n",
       "        <td>1626 Taylor</td>\n",
       "        <td>Fillmore</td>\n",
       "        <td>FL</td>\n",
       "        <td>33553</td>\n",
       "        <td>23487</td>\n",
       "        <td>0.05</td>\n",
       "    </tr>\n",
       "</table>"
      ],
      "text/plain": [
       "[('20', 'Kaiser', 'Valerie', '624 Randall', 'Grove', 'FL', '33321', 20542.5, 0.05),\n",
       " ('35', 'Hull', 'Richard', '532 Jackson', 'Sheldon', 'FL', '33553', 39216, 0.07),\n",
       " ('65', 'Perez', 'Juan', '1626 Taylor', 'Fillmore', 'FL', '33553', 23487, 0.05)]"
      ]
     },
     "execution_count": 7,
     "metadata": {},
     "output_type": "execute_result"
    }
   ],
   "source": [
    "%%sql\n",
    "select * from REP"
   ]
  },
  {
   "cell_type": "code",
   "execution_count": 8,
   "metadata": {},
   "outputs": [],
   "source": [
    "# Create table CUSTOMER"
   ]
  },
  {
   "cell_type": "code",
   "execution_count": 9,
   "metadata": {},
   "outputs": [
    {
     "name": "stdout",
     "output_type": "stream",
     "text": [
      " * sqlite://\n",
      "Done.\n"
     ]
    },
    {
     "data": {
      "text/plain": [
       "[]"
      ]
     },
     "execution_count": 9,
     "metadata": {},
     "output_type": "execute_result"
    }
   ],
   "source": [
    "%%sql\n",
    "create table CUSTOMER\n",
    "(customer_num char(3) primary key,\n",
    "customer_name char(35) not null,\n",
    "street char(15),\n",
    "city char(15),\n",
    "state char(12),\n",
    "zip char(5),\n",
    "balance decimal(8,2),\n",
    "credit_limit decimal(8,2),\n",
    "rep_num char(2));"
   ]
  },
  {
   "cell_type": "code",
   "execution_count": 10,
   "metadata": {},
   "outputs": [
    {
     "name": "stdout",
     "output_type": "stream",
     "text": [
      " * sqlite://\n",
      "1 rows affected.\n",
      "1 rows affected.\n",
      "1 rows affected.\n",
      "1 rows affected.\n",
      "1 rows affected.\n",
      "1 rows affected.\n",
      "1 rows affected.\n",
      "1 rows affected.\n",
      "1 rows affected.\n",
      "1 rows affected.\n"
     ]
    },
    {
     "data": {
      "text/plain": [
       "[]"
      ]
     },
     "execution_count": 10,
     "metadata": {},
     "output_type": "execute_result"
    }
   ],
   "source": [
    "%%sql\n",
    "INSERT INTO CUSTOMER\n",
    "VALUES\n",
    "('148','Al''s Appliance and Sport','2837 Greenway','Fillmore','FL','33336',6550.00,7500.00,'20');\n",
    "INSERT INTO CUSTOMER\n",
    "VALUES\n",
    "('282','Brookings Direct','3827 Devon','Grove','FL','33321',431.50,10000.00,'35');\n",
    "INSERT INTO CUSTOMER\n",
    "VALUES\n",
    "('356','Ferguson''s','382 Wildwood','Northfield','FL','33146',5785.00,7500.00,'65');\n",
    "INSERT INTO CUSTOMER\n",
    "VALUES\n",
    "('408','The Everything Shop','1828 Raven','Crystal','FL','33503',5285.25,5000.00,'35');\n",
    "INSERT INTO CUSTOMER\n",
    "VALUES\n",
    "('462','Bargains Galore','3829 Central','Grove','FL','33321',3412.00,10000.00,'65');\n",
    "INSERT INTO CUSTOMER\n",
    "VALUES\n",
    "('524','Kline''s','838 Ridgeland','Fillmore','FL','33336',12762.00,15000.00,'20');\n",
    "INSERT INTO CUSTOMER\n",
    "VALUES\n",
    "('608','Johnson''s Department Store','372 Oxford','Sheldon','FL','33553',2106.00,10000.00,'65');\n",
    "INSERT INTO CUSTOMER\n",
    "VALUES\n",
    "('687','Lee''s Sport and Appliance','282 Evergreen','Altonville','FL','32543',2851.00,5000.00,'35');\n",
    "INSERT INTO CUSTOMER\n",
    "VALUES\n",
    "('725','Deerfield''s Four Seasons','282 Columbia','Sheldon','FL','33553',248.00,7500.00,'35');\n",
    "INSERT INTO CUSTOMER\n",
    "VALUES\n",
    "('842','All Season','28 Lakeview','Grove','FL','33321',8221.00,7500.00,'20');\n"
   ]
  },
  {
   "cell_type": "code",
   "execution_count": 11,
   "metadata": {},
   "outputs": [],
   "source": [
    "# Create table ORDERS"
   ]
  },
  {
   "cell_type": "code",
   "execution_count": 12,
   "metadata": {},
   "outputs": [
    {
     "name": "stdout",
     "output_type": "stream",
     "text": [
      " * sqlite://\n",
      "Done.\n"
     ]
    },
    {
     "data": {
      "text/plain": [
       "[]"
      ]
     },
     "execution_count": 12,
     "metadata": {},
     "output_type": "execute_result"
    }
   ],
   "source": [
    "%%sql\n",
    "CREATE TABLE ORDERS\n",
    "(ORDER_NUM CHAR(5) PRIMARY KEY,\n",
    "ORDER_DATE DATE,\n",
    "CUSTOMER_NUM CHAR(3));"
   ]
  },
  {
   "cell_type": "code",
   "execution_count": 13,
   "metadata": {},
   "outputs": [
    {
     "name": "stdout",
     "output_type": "stream",
     "text": [
      " * sqlite://\n",
      "1 rows affected.\n",
      "1 rows affected.\n",
      "1 rows affected.\n",
      "1 rows affected.\n",
      "1 rows affected.\n",
      "1 rows affected.\n",
      "1 rows affected.\n"
     ]
    },
    {
     "data": {
      "text/plain": [
       "[]"
      ]
     },
     "execution_count": 13,
     "metadata": {},
     "output_type": "execute_result"
    }
   ],
   "source": [
    "%%sql\n",
    "INSERT INTO ORDERS\n",
    "VALUES\n",
    "('21608','20-OCT-2010','148');\n",
    "INSERT INTO ORDERS\n",
    "VALUES\n",
    "('21610','20-OCT-2010','356');\n",
    "INSERT INTO ORDERS\n",
    "VALUES\n",
    "('21613','21-OCT-2010','408');\n",
    "INSERT INTO ORDERS\n",
    "VALUES\n",
    "('21614','21-OCT-2010','282');\n",
    "INSERT INTO ORDERS\n",
    "VALUES\n",
    "('21617','23-OCT-2010','608');\n",
    "INSERT INTO ORDERS\n",
    "VALUES\n",
    "('21619','23-OCT-2010','148');\n",
    "INSERT INTO ORDERS\n",
    "VALUES\n",
    "('21623','23-OCT-2010','608');"
   ]
  },
  {
   "cell_type": "code",
   "execution_count": 14,
   "metadata": {},
   "outputs": [
    {
     "name": "stdout",
     "output_type": "stream",
     "text": [
      " * sqlite://\n",
      "Done.\n"
     ]
    },
    {
     "data": {
      "text/html": [
       "<table>\n",
       "    <tr>\n",
       "        <th>ORDER_NUM</th>\n",
       "        <th>ORDER_DATE</th>\n",
       "        <th>CUSTOMER_NUM</th>\n",
       "    </tr>\n",
       "    <tr>\n",
       "        <td>21608</td>\n",
       "        <td>20-OCT-2010</td>\n",
       "        <td>148</td>\n",
       "    </tr>\n",
       "    <tr>\n",
       "        <td>21610</td>\n",
       "        <td>20-OCT-2010</td>\n",
       "        <td>356</td>\n",
       "    </tr>\n",
       "    <tr>\n",
       "        <td>21613</td>\n",
       "        <td>21-OCT-2010</td>\n",
       "        <td>408</td>\n",
       "    </tr>\n",
       "    <tr>\n",
       "        <td>21614</td>\n",
       "        <td>21-OCT-2010</td>\n",
       "        <td>282</td>\n",
       "    </tr>\n",
       "    <tr>\n",
       "        <td>21617</td>\n",
       "        <td>23-OCT-2010</td>\n",
       "        <td>608</td>\n",
       "    </tr>\n",
       "    <tr>\n",
       "        <td>21619</td>\n",
       "        <td>23-OCT-2010</td>\n",
       "        <td>148</td>\n",
       "    </tr>\n",
       "    <tr>\n",
       "        <td>21623</td>\n",
       "        <td>23-OCT-2010</td>\n",
       "        <td>608</td>\n",
       "    </tr>\n",
       "</table>"
      ],
      "text/plain": [
       "[('21608', '20-OCT-2010', '148'),\n",
       " ('21610', '20-OCT-2010', '356'),\n",
       " ('21613', '21-OCT-2010', '408'),\n",
       " ('21614', '21-OCT-2010', '282'),\n",
       " ('21617', '23-OCT-2010', '608'),\n",
       " ('21619', '23-OCT-2010', '148'),\n",
       " ('21623', '23-OCT-2010', '608')]"
      ]
     },
     "execution_count": 14,
     "metadata": {},
     "output_type": "execute_result"
    }
   ],
   "source": [
    "%sql select * from ORDERS"
   ]
  },
  {
   "cell_type": "code",
   "execution_count": null,
   "metadata": {},
   "outputs": [],
   "source": [
    "# Create table PART"
   ]
  },
  {
   "cell_type": "code",
   "execution_count": 15,
   "metadata": {},
   "outputs": [
    {
     "name": "stdout",
     "output_type": "stream",
     "text": [
      " * sqlite://\n",
      "Done.\n"
     ]
    },
    {
     "data": {
      "text/plain": [
       "[]"
      ]
     },
     "execution_count": 15,
     "metadata": {},
     "output_type": "execute_result"
    }
   ],
   "source": [
    "%%sql\n",
    "CREATE TABLE PART\n",
    "(PART_NUM CHAR(4) PRIMARY KEY,\n",
    "DESCRIPTION CHAR(15),\n",
    "ON_HAND DECIMAL(4,0),\n",
    "CLASS CHAR(2),\n",
    "WAREHOUSE CHAR(1),\n",
    "PRICE DECIMAL(6,2) );\n"
   ]
  },
  {
   "cell_type": "code",
   "execution_count": 16,
   "metadata": {},
   "outputs": [
    {
     "name": "stdout",
     "output_type": "stream",
     "text": [
      " * sqlite://\n",
      "10 rows affected.\n"
     ]
    },
    {
     "data": {
      "text/plain": [
       "[]"
      ]
     },
     "execution_count": 16,
     "metadata": {},
     "output_type": "execute_result"
    }
   ],
   "source": [
    "%%sql\n",
    "INSERT INTO PART VALUES\n",
    "('AT94','Iron',50,'HW','3',24.95),\n",
    "('BV06','Home Gym',45,'SG','2',794.95),\n",
    "('CD52','Microwave Oven',32,'AP','1',165.00),\n",
    "('DL71','Cordless Drill',21,'HW','3',129.95),\n",
    "('DR93','Gas Range',8,'AP','2',495.00),\n",
    "('DW11','Washer',12,'AP','3',399.99),\n",
    "('FD21','Stand Mixer',22,'HW','3',159.95),\n",
    "('KL62','Dryer',12,'AP','1',349.95),\n",
    "('KT03','Dishwasher',8,'AP','3',595.00),\n",
    "('KV29','Treadmill',9,'SG','2',1390.00);\n"
   ]
  },
  {
   "cell_type": "code",
   "execution_count": null,
   "metadata": {},
   "outputs": [],
   "source": [
    "# Create table ORDER_LINE"
   ]
  },
  {
   "cell_type": "code",
   "execution_count": 17,
   "metadata": {},
   "outputs": [
    {
     "name": "stdout",
     "output_type": "stream",
     "text": [
      " * sqlite://\n",
      "Done.\n"
     ]
    },
    {
     "data": {
      "text/plain": [
       "[]"
      ]
     },
     "execution_count": 17,
     "metadata": {},
     "output_type": "execute_result"
    }
   ],
   "source": [
    "%%sql\n",
    "CREATE TABLE ORDER_LINE\n",
    "(ORDER_NUM CHAR(5),\n",
    "PART_NUM CHAR(4),\n",
    "NUM_ORDERED DECIMAL(3,0),\n",
    "QUOTED_PRICE DECIMAL(6,2),\n",
    "PRIMARY KEY (ORDER_NUM, PART_NUM) );\n"
   ]
  },
  {
   "cell_type": "code",
   "execution_count": 18,
   "metadata": {},
   "outputs": [
    {
     "name": "stdout",
     "output_type": "stream",
     "text": [
      " * sqlite://\n",
      "9 rows affected.\n"
     ]
    },
    {
     "data": {
      "text/plain": [
       "[]"
      ]
     },
     "execution_count": 18,
     "metadata": {},
     "output_type": "execute_result"
    }
   ],
   "source": [
    "%%sql\n",
    "INSERT INTO ORDER_LINE VALUES\n",
    "('21608','AT94',11,21.95),\n",
    "('21610','DR93',1,495.00),\n",
    "('21610','DW11',1,399.99),\n",
    "('21613','KL62',4,329.95),\n",
    "('21614','KT03',2,595.00),\n",
    "('21617','BV06',2,794.95),\n",
    "('21617','CD52',4,150.00),\n",
    "('21619','DR93',1,495.00),\n",
    "('21623','KV29',2,1290.00);\n"
   ]
  },
  {
   "cell_type": "markdown",
   "metadata": {},
   "source": [
    "The dat ashould be ready now."
   ]
  },
  {
   "cell_type": "markdown",
   "metadata": {},
   "source": [
    "## Part A"
   ]
  },
  {
   "cell_type": "markdown",
   "metadata": {},
   "source": [
    "## A.1. List the names of all customers that have a credit limit of $7,500 or less."
   ]
  },
  {
   "cell_type": "code",
   "execution_count": 19,
   "metadata": {},
   "outputs": [
    {
     "name": "stdout",
     "output_type": "stream",
     "text": [
      " * sqlite://\n",
      "Done.\n"
     ]
    },
    {
     "data": {
      "text/html": [
       "<table>\n",
       "    <tr>\n",
       "        <th>customer_name</th>\n",
       "    </tr>\n",
       "    <tr>\n",
       "        <td>Al&#x27;s Appliance and Sport</td>\n",
       "    </tr>\n",
       "    <tr>\n",
       "        <td>Ferguson&#x27;s</td>\n",
       "    </tr>\n",
       "    <tr>\n",
       "        <td>The Everything Shop</td>\n",
       "    </tr>\n",
       "    <tr>\n",
       "        <td>Lee&#x27;s Sport and Appliance</td>\n",
       "    </tr>\n",
       "    <tr>\n",
       "        <td>Deerfield&#x27;s Four Seasons</td>\n",
       "    </tr>\n",
       "    <tr>\n",
       "        <td>All Season</td>\n",
       "    </tr>\n",
       "</table>"
      ],
      "text/plain": [
       "[(\"Al's Appliance and Sport\",),\n",
       " (\"Ferguson's\",),\n",
       " ('The Everything Shop',),\n",
       " (\"Lee's Sport and Appliance\",),\n",
       " (\"Deerfield's Four Seasons\",),\n",
       " ('All Season',)]"
      ]
     },
     "execution_count": 19,
     "metadata": {},
     "output_type": "execute_result"
    }
   ],
   "source": [
    "%%sql\n",
    "select customer_name from customer where credit_limit <= 7500"
   ]
  },
  {
   "cell_type": "code",
   "execution_count": 2,
   "metadata": {},
   "outputs": [],
   "source": [
    "# write your code here"
   ]
  },
  {
   "cell_type": "markdown",
   "metadata": {},
   "source": [
    "## Part B"
   ]
  },
  {
   "cell_type": "code",
   "execution_count": 3,
   "metadata": {},
   "outputs": [],
   "source": [
    "# write your code here"
   ]
  },
  {
   "cell_type": "markdown",
   "metadata": {},
   "source": [
    "## Part C"
   ]
  },
  {
   "cell_type": "code",
   "execution_count": 4,
   "metadata": {},
   "outputs": [],
   "source": [
    "# write your code here"
   ]
  },
  {
   "cell_type": "markdown",
   "metadata": {},
   "source": [
    "## Part D"
   ]
  },
  {
   "cell_type": "code",
   "execution_count": 5,
   "metadata": {},
   "outputs": [],
   "source": [
    "# write your code here"
   ]
  }
 ],
 "metadata": {
  "kernelspec": {
   "display_name": "Python 3",
   "language": "python",
   "name": "python3"
  },
  "language_info": {
   "codemirror_mode": {
    "name": "ipython",
    "version": 3
   },
   "file_extension": ".py",
   "mimetype": "text/x-python",
   "name": "python",
   "nbconvert_exporter": "python",
   "pygments_lexer": "ipython3",
   "version": "3.7.3"
  }
 },
 "nbformat": 4,
 "nbformat_minor": 2
}
